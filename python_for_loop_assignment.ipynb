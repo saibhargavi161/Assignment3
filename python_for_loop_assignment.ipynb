{
 "cells": [
  {
   "cell_type": "markdown",
   "id": "405c7f2c-3b68-4dd0-a774-dafc0efeb9d9",
   "metadata": {},
   "source": [
    "Basic Level:\n",
    "\n",
    "1. Write a Python program to print the numbers from 1 to 10 using a `for` loop."
   ]
  },
  {
   "cell_type": "code",
   "execution_count": 8,
   "id": "e35230fd-22d4-40c0-989b-e7683f4147e6",
   "metadata": {},
   "outputs": [
    {
     "name": "stdout",
     "output_type": "stream",
     "text": [
      "1 2 3 4 5 6 7 8 9 10 "
     ]
    }
   ],
   "source": [
    "for i in range(1,11):\n",
    "    print(i,end=' ')"
   ]
  },
  {
   "cell_type": "markdown",
   "id": "de0606eb-7313-4d02-b96c-767e95715776",
   "metadata": {},
   "source": [
    "2. Create a program that calculates the sum of all numbers in a list using a `for` loop."
   ]
  },
  {
   "cell_type": "code",
   "execution_count": 7,
   "id": "0cecba5c-62bc-4350-98a1-74159ee2ecdb",
   "metadata": {},
   "outputs": [
    {
     "name": "stdout",
     "output_type": "stream",
     "text": [
      "10\n"
     ]
    }
   ],
   "source": [
    "pylist=[1,2,3,4]\n",
    "sum_of_num=0\n",
    "for i in pylist:\n",
    "    sum_of_num+=i\n",
    "print(sum_of_num)    "
   ]
  },
  {
   "cell_type": "markdown",
   "id": "d206cf89-976e-42b0-a6ba-718829888fd6",
   "metadata": {},
   "source": [
    "3. Write a program to print the characters of a string in reverse order using a `for` loop."
   ]
  },
  {
   "cell_type": "code",
   "execution_count": 6,
   "id": "8151591a-65d2-4870-a991-f358b33a9812",
   "metadata": {},
   "outputs": [
    {
     "name": "stdout",
     "output_type": "stream",
     "text": [
      "ivagrahb ias"
     ]
    }
   ],
   "source": [
    "string=\"sai bhargavi\"\n",
    "for i in reversed(string):\n",
    "    print(i,end='')"
   ]
  },
  {
   "cell_type": "markdown",
   "id": "e4e1624b-4f44-446e-8ebe-9b61fa7e80d8",
   "metadata": {},
   "source": [
    "4. Develop a program that finds the factorial of a given number using a `for` loop."
   ]
  },
  {
   "cell_type": "code",
   "execution_count": 9,
   "id": "ea286f26-55d6-4252-ac5c-8839ad93a134",
   "metadata": {},
   "outputs": [
    {
     "name": "stdin",
     "output_type": "stream",
     "text": [
      "enter any number 5\n"
     ]
    },
    {
     "name": "stdout",
     "output_type": "stream",
     "text": [
      "the factorial of a given nuumber 5 is 120\n"
     ]
    }
   ],
   "source": [
    "n=int(input(\"enter any number\"))\n",
    "factorial=1\n",
    "for i in range(1,n+1):\n",
    "    factorial*=i\n",
    "print(\"the factorial of a given nuumber\",n,\"is\",factorial)    "
   ]
  },
  {
   "cell_type": "markdown",
   "id": "2f5152c7-7dd2-45d8-b32c-8e879d0a0674",
   "metadata": {},
   "source": [
    "5. Create a program to print the multiplication table of a given number using a `for` loop."
   ]
  },
  {
   "cell_type": "code",
   "execution_count": 16,
   "id": "1a8d533d-e4b0-41f8-967b-47e593f2be0e",
   "metadata": {},
   "outputs": [
    {
     "name": "stdin",
     "output_type": "stream",
     "text": [
      "enter any number: 9\n"
     ]
    },
    {
     "name": "stdout",
     "output_type": "stream",
     "text": [
      "9 * 1 = 9\n",
      "9 * 2 = 18\n",
      "9 * 3 = 27\n",
      "9 * 4 = 36\n",
      "9 * 5 = 45\n",
      "9 * 6 = 54\n",
      "9 * 7 = 63\n",
      "9 * 8 = 72\n",
      "9 * 9 = 81\n",
      "9 * 10 = 90\n"
     ]
    }
   ],
   "source": [
    "n=int(input(\"enter any number:\"))\n",
    "for i in range(1,11):\n",
    "    print(n,\"*\",i,\"=\",n*i)"
   ]
  },
  {
   "cell_type": "markdown",
   "id": "3d22afd5-fcae-4a67-9708-fb9c1514081b",
   "metadata": {},
   "source": [
    "6. Write a program that counts the number of even and odd numbers in a list using a `for` loop."
   ]
  },
  {
   "cell_type": "code",
   "execution_count": 19,
   "id": "69736bfe-8e1e-4702-91b1-04072ac66e7b",
   "metadata": {},
   "outputs": [
    {
     "name": "stdout",
     "output_type": "stream",
     "text": [
      "number of even numbers in a list: 5\n",
      "number of odd numbers in a list: 5\n"
     ]
    }
   ],
   "source": [
    "n=[1,2,3,4,5,6,7,8,9,10]\n",
    "even_count=0\n",
    "odd_count=0\n",
    "for i in n:\n",
    "    if i%2==0:\n",
    "        even_count+=1\n",
    "    else:\n",
    "        odd_count+=1\n",
    "print(\"number of even numbers in a list:\",even_count)\n",
    "print(\"number of odd numbers in a list:\",odd_count)"
   ]
  },
  {
   "cell_type": "markdown",
   "id": "ae9b230e-0240-48ca-9fb7-44ae8ff86609",
   "metadata": {},
   "source": [
    "7. Develop a program that prints the squares of numbers from 1 to 5 using a `for` loop."
   ]
  },
  {
   "cell_type": "code",
   "execution_count": 21,
   "id": "fc0e905b-5960-4abe-8852-6e04d1a27f3c",
   "metadata": {},
   "outputs": [
    {
     "name": "stdout",
     "output_type": "stream",
     "text": [
      "1 4 9 16 25 "
     ]
    }
   ],
   "source": [
    "for i in range(1,6):\n",
    "    print(i*i,end=' ')"
   ]
  },
  {
   "cell_type": "markdown",
   "id": "f79a96a4-cbc7-4081-b721-e543204e5870",
   "metadata": {},
   "source": [
    "8. Create a program to find the length of a string without using the `len()` function."
   ]
  },
  {
   "cell_type": "code",
   "execution_count": 25,
   "id": "3cdd94b4-4433-4ac4-aa5c-9b5f378ddc7a",
   "metadata": {},
   "outputs": [
    {
     "name": "stdout",
     "output_type": "stream",
     "text": [
      "9\n"
     ]
    }
   ],
   "source": [
    "string=\"sai bavya\"\n",
    "count=0\n",
    "for i in string:\n",
    "    count+=1\n",
    "print(count)"
   ]
  },
  {
   "cell_type": "markdown",
   "id": "02b25b22-5c0a-4c9e-a19f-fea8ed38e4f5",
   "metadata": {},
   "source": [
    "9. Write a program that calculates the average of a list of numbers using a `for` loop."
   ]
  },
  {
   "cell_type": "code",
   "execution_count": 26,
   "id": "c475692c-8052-427d-a45a-e640aac26680",
   "metadata": {},
   "outputs": [
    {
     "name": "stdout",
     "output_type": "stream",
     "text": [
      "the average of list of numbers is: 3.0\n"
     ]
    }
   ],
   "source": [
    "pylist=[1,2,3,4,5]\n",
    "total=0\n",
    "count=0\n",
    "for i in pylist:\n",
    "    total+=i\n",
    "    count+=1\n",
    "average=total/count\n",
    "print(\"the average of list of numbers is:\",average)"
   ]
  },
  {
   "cell_type": "markdown",
   "id": "1e987ab4-51f3-4a89-95f3-71d01ac2cb31",
   "metadata": {},
   "source": [
    "10. Develop a program that prints the first `n` Fibonacci numbers using a `for` loop."
   ]
  },
  {
   "cell_type": "code",
   "execution_count": 11,
   "id": "981be127-f675-4148-b11e-7ffde64bf1c3",
   "metadata": {},
   "outputs": [
    {
     "name": "stdin",
     "output_type": "stream",
     "text": [
      "enter no.of fibonacci numbers to print: 5\n"
     ]
    },
    {
     "name": "stdout",
     "output_type": "stream",
     "text": [
      "0 1 1 2 3 "
     ]
    }
   ],
   "source": [
    "n=int(input(\"enter no.of fibonacci numbers to print:\"))\n",
    "a,b=0,1\n",
    "for i in range(n):\n",
    "    print(a,end=\" \")\n",
    "    a,b=b,a+b"
   ]
  },
  {
   "cell_type": "markdown",
   "id": "aa286b69-a152-498c-beef-c98e619d5726",
   "metadata": {},
   "source": [
    "Intermediate Level:\n",
    "\n",
    "11. Write a program to check if a given list contains any duplicates using a `for` loop."
   ]
  },
  {
   "cell_type": "code",
   "execution_count": 6,
   "id": "32c6e92d-b1b3-49c2-a1ba-84f246bc33cb",
   "metadata": {},
   "outputs": [
    {
     "name": "stdout",
     "output_type": "stream",
     "text": [
      "list contains duplicates\n"
     ]
    }
   ],
   "source": [
    "pylist=[1,2,3,3,4,5,6,6]\n",
    "for i in pylist:\n",
    "    if pylist.count(i)>1:\n",
    "        print(\"list contains duplicates\")\n",
    "        break\n",
    "else:\n",
    "    print(\"list doesnt contains duplicates\")"
   ]
  },
  {
   "cell_type": "markdown",
   "id": "0d371009-9201-44c1-8b2a-68b41a8f413a",
   "metadata": {},
   "source": [
    "12. Create a program that prints the prime numbers in a given range using a `for` loop."
   ]
  },
  {
   "cell_type": "code",
   "execution_count": 15,
   "id": "d3618e14-f907-4559-a7ac-0ee3f04c1adc",
   "metadata": {},
   "outputs": [
    {
     "name": "stdin",
     "output_type": "stream",
     "text": [
      "enter range: 10\n"
     ]
    },
    {
     "name": "stdout",
     "output_type": "stream",
     "text": [
      "2 3 5 7 "
     ]
    }
   ],
   "source": [
    "n=int(input(\"enter range:\"))\n",
    "for i in range(2,n+1):\n",
    "    for j in range(2,n+1):\n",
    "        if i%j==0:\n",
    "            break\n",
    "    if i==j:\n",
    "        print(i,end=' ') "
   ]
  },
  {
   "cell_type": "markdown",
   "id": "98b53163-6ddf-4639-820b-547d49ba13d8",
   "metadata": {},
   "source": [
    "13. Develop a program that counts the number of vowels in a string using a `for` loop."
   ]
  },
  {
   "cell_type": "code",
   "execution_count": 19,
   "id": "117bbd66-b803-44a2-b83d-91c63f57c054",
   "metadata": {},
   "outputs": [
    {
     "name": "stdout",
     "output_type": "stream",
     "text": [
      "number of vowels in given string: 5\n"
     ]
    }
   ],
   "source": [
    "string=\"data science\"\n",
    "count=0\n",
    "for i in string:\n",
    "    string.lower()\n",
    "    if i in\"aeiou\":\n",
    "        count+=1\n",
    "print(\"number of vowels in given string:\",count)     "
   ]
  },
  {
   "cell_type": "markdown",
   "id": "5fdf0a68-3beb-4e6e-8735-fca99d1b65e0",
   "metadata": {},
   "source": [
    "14. Write a program to find the maximum element in a 2D list using a nested `for` loop."
   ]
  },
  {
   "cell_type": "code",
   "execution_count": 24,
   "id": "02b0195f-7da6-4368-8e17-b982bad98cd5",
   "metadata": {},
   "outputs": [
    {
     "name": "stdout",
     "output_type": "stream",
     "text": [
      "maximum element in a list is 8\n"
     ]
    }
   ],
   "source": [
    "pylist=[[1,2,3],\n",
    "        [6,4,2],\n",
    "        [4,6,8]]\n",
    "max_element=pylist[0][0]\n",
    "for i in pylist:\n",
    "    for j in i:\n",
    "        if j>max_element:\n",
    "            max_element=j\n",
    "print(\"maximum element in a list is\",max_element)            "
   ]
  },
  {
   "cell_type": "markdown",
   "id": "86fcfdca-66a6-4d93-a986-01eeaa91581e",
   "metadata": {},
   "source": [
    "15. Create a program that removes all occurrences of a specific element from a list using a `for` loop."
   ]
  },
  {
   "cell_type": "code",
   "execution_count": 25,
   "id": "3e292f65-4363-43cf-abb7-55213e070e46",
   "metadata": {},
   "outputs": [
    {
     "name": "stdout",
     "output_type": "stream",
     "text": [
      "[1, 3, 4, 5, 6]\n"
     ]
    }
   ],
   "source": [
    "my_list = [1, 2, 3, 4, 2, 5, 2, 6]\n",
    "element_to_remove = 2\n",
    "for i in range(len(my_list) - 1, -1, -1):\n",
    "    if my_list[i] == element_to_remove:\n",
    "        my_list.pop(i)\n",
    "print(my_list)"
   ]
  },
  {
   "cell_type": "markdown",
   "id": "54655e89-f375-48d0-b8ed-7c16abee81dd",
   "metadata": {},
   "source": [
    "16. Develop a program that generates a multiplication table for numbers from 1 to 5 using a nested `for` loop."
   ]
  },
  {
   "cell_type": "code",
   "execution_count": 26,
   "id": "b4dc4939-433e-4ec3-a129-268aa6346b54",
   "metadata": {},
   "outputs": [
    {
     "name": "stdout",
     "output_type": "stream",
     "text": [
      "multiplication table for 1 is:\n",
      "1 * 1 = 1\n",
      "1 * 2 = 2\n",
      "1 * 3 = 3\n",
      "1 * 4 = 4\n",
      "1 * 5 = 5\n",
      "1 * 6 = 6\n",
      "1 * 7 = 7\n",
      "1 * 8 = 8\n",
      "1 * 9 = 9\n",
      "1 * 10 = 10\n",
      "multiplication table for 2 is:\n",
      "2 * 1 = 2\n",
      "2 * 2 = 4\n",
      "2 * 3 = 6\n",
      "2 * 4 = 8\n",
      "2 * 5 = 10\n",
      "2 * 6 = 12\n",
      "2 * 7 = 14\n",
      "2 * 8 = 16\n",
      "2 * 9 = 18\n",
      "2 * 10 = 20\n",
      "multiplication table for 3 is:\n",
      "3 * 1 = 3\n",
      "3 * 2 = 6\n",
      "3 * 3 = 9\n",
      "3 * 4 = 12\n",
      "3 * 5 = 15\n",
      "3 * 6 = 18\n",
      "3 * 7 = 21\n",
      "3 * 8 = 24\n",
      "3 * 9 = 27\n",
      "3 * 10 = 30\n",
      "multiplication table for 4 is:\n",
      "4 * 1 = 4\n",
      "4 * 2 = 8\n",
      "4 * 3 = 12\n",
      "4 * 4 = 16\n",
      "4 * 5 = 20\n",
      "4 * 6 = 24\n",
      "4 * 7 = 28\n",
      "4 * 8 = 32\n",
      "4 * 9 = 36\n",
      "4 * 10 = 40\n",
      "multiplication table for 5 is:\n",
      "5 * 1 = 5\n",
      "5 * 2 = 10\n",
      "5 * 3 = 15\n",
      "5 * 4 = 20\n",
      "5 * 5 = 25\n",
      "5 * 6 = 30\n",
      "5 * 7 = 35\n",
      "5 * 8 = 40\n",
      "5 * 9 = 45\n",
      "5 * 10 = 50\n"
     ]
    }
   ],
   "source": [
    "start=1\n",
    "end=5\n",
    "for i in range(start,end+1):\n",
    "    print(\"multiplication table for\",i,\"is:\")\n",
    "    for j in range(1,11):\n",
    "        print(i,\"*\",j,\"=\",i*j)"
   ]
  },
  {
   "cell_type": "markdown",
   "id": "4b2cf16e-739d-437d-ba20-57fe34610e96",
   "metadata": {},
   "source": [
    "17. Write a program that converts a list of Fahrenheit temperatures to Celsius using a `for` loop."
   ]
  },
  {
   "cell_type": "code",
   "execution_count": 27,
   "id": "02b99bf5-6d5f-4b23-8eff-64e8777b0242",
   "metadata": {},
   "outputs": [
    {
     "name": "stdout",
     "output_type": "stream",
     "text": [
      "Fahrenheit Temperatures: [32, 68, 90, 104, 212]\n",
      "Celsius Temperatures: [0.0, 20.0, 32.22222222222222, 40.0, 100.0]\n"
     ]
    }
   ],
   "source": [
    "fahrenheit_temperatures = [32, 68, 90, 104, 212]\n",
    "celsius_temperatures =[]\n",
    "for fahrenheit in fahrenheit_temperatures:\n",
    "    celsius = (fahrenheit - 32) * 5/9\n",
    "    celsius_temperatures.append(celsius)\n",
    "print(\"Fahrenheit Temperatures:\", fahrenheit_temperatures)\n",
    "print(\"Celsius Temperatures:\", celsius_temperatures)"
   ]
  },
  {
   "cell_type": "markdown",
   "id": "102d627c-42fe-43c5-8efa-9284407694eb",
   "metadata": {},
   "source": [
    "18. Create a program to print the common elements from two lists using a `for` loop."
   ]
  },
  {
   "cell_type": "code",
   "execution_count": 35,
   "id": "baf93b14-e96e-4103-8d05-c6b5de660cf8",
   "metadata": {},
   "outputs": [
    {
     "data": {
      "text/plain": [
       "[2, 5, 6]"
      ]
     },
     "execution_count": 35,
     "metadata": {},
     "output_type": "execute_result"
    }
   ],
   "source": [
    "list1=[2,4,5,6,7]\n",
    "list2=[3,5,2,6,9]\n",
    "common_elements=[]\n",
    "for i in list1:\n",
    "    if i in list2:\n",
    "        common_elements.append(i)\n",
    "common_elements        "
   ]
  },
  {
   "cell_type": "markdown",
   "id": "37d77c50-9965-40db-9be9-971983154e59",
   "metadata": {},
   "source": [
    "19. Develop a program that prints the pattern of right-angled triangles using a `for` loop. Use ‘*’ to draw the\n",
    "pattern."
   ]
  },
  {
   "cell_type": "code",
   "execution_count": 2,
   "id": "8791724f-1ba0-46ee-8380-546ebde21761",
   "metadata": {},
   "outputs": [
    {
     "name": "stdin",
     "output_type": "stream",
     "text": [
      "enter no.of rows: 6\n"
     ]
    },
    {
     "name": "stdout",
     "output_type": "stream",
     "text": [
      "* \n",
      "* * \n",
      "* * * \n",
      "* * * * \n",
      "* * * * * \n",
      "* * * * * * \n"
     ]
    }
   ],
   "source": [
    "n=int(input(\"enter no.of rows:\"))\n",
    "for i in range(1,n+1):\n",
    "    for j in range(i):\n",
    "        print(\"*\",end=\" \")\n",
    "    print()    "
   ]
  },
  {
   "cell_type": "markdown",
   "id": "fd52fdd6-8607-4393-9265-658ec4df12f9",
   "metadata": {},
   "source": [
    "20. Write a program to find the greatest common divisor (GCD) of two numbers using a `for` loop."
   ]
  },
  {
   "cell_type": "code",
   "execution_count": 1,
   "id": "7256803a-4e36-451a-a511-82f3539fb485",
   "metadata": {},
   "outputs": [
    {
     "name": "stdin",
     "output_type": "stream",
     "text": [
      "enter any number 6\n",
      "enter any number 4\n"
     ]
    },
    {
     "name": "stdout",
     "output_type": "stream",
     "text": [
      "2\n"
     ]
    }
   ],
   "source": [
    "num1=int(input(\"enter any number\"))\n",
    "num2=int(input(\"enter any number\"))\n",
    "min_num = min(num1, num2)\n",
    "gcd = 1\n",
    "for i in range(2, min_num + 1):\n",
    "    if num1 % i == num2 % i == 0:\n",
    "        gcd = i\n",
    "print(gcd)        "
   ]
  },
  {
   "cell_type": "markdown",
   "id": "fdf64485-ae77-4955-abf6-a1c3d531d352",
   "metadata": {},
   "source": [
    "Advanced Level:\n",
    "\n",
    "21. Create a program that calculates the sum of the digits of numbers in a list using a list comprehension."
   ]
  },
  {
   "cell_type": "code",
   "execution_count": 3,
   "id": "ee179012-3fd4-4eef-9b14-8ad7b1a41a7b",
   "metadata": {},
   "outputs": [
    {
     "name": "stdout",
     "output_type": "stream",
     "text": [
      "sum of digits of 123 is 6\n",
      "sum of digits of 456 is 15\n",
      "sum of digits of 789 is 24\n",
      "sum of digits of 12 is 3\n",
      "sum of digits of 34 is 7\n",
      "sum of digits of 56 is 11\n"
     ]
    }
   ],
   "source": [
    "numbers = [123, 456, 789, 12, 34, 56]\n",
    "result = [(num, sum(map(int, str(num)))) for num in numbers]\n",
    "for num, digit_sum in result:\n",
    "    print(\"sum of digits of\",num,\"is\",digit_sum)"
   ]
  },
  {
   "cell_type": "markdown",
   "id": "ddf7c39a-3e68-4748-8fc4-ff83266701d2",
   "metadata": {},
   "source": [
    "22. Write a program to find the prime factors of a given number using a `for` loop and list comprehension."
   ]
  },
  {
   "cell_type": "code",
   "execution_count": 5,
   "id": "75eeac00-a6ef-4b8c-8ef3-fe2008cdc076",
   "metadata": {},
   "outputs": [
    {
     "name": "stdin",
     "output_type": "stream",
     "text": [
      "Enter a number to find its prime factors:  12\n"
     ]
    },
    {
     "name": "stdout",
     "output_type": "stream",
     "text": [
      "the prime factors of 12 are: [2, 3]\n"
     ]
    }
   ],
   "source": [
    "num = int(input(\"Enter a number to find its prime factors: \"))\n",
    "factors = [i for i in range(2, num + 1) if num % i == 0 and all(i % j != 0 for j in range(2, int(i**0.5) + 1))]\n",
    "print(\"the prime factors of\",num,\"are:\",factors)"
   ]
  },
  {
   "cell_type": "markdown",
   "id": "80c24680-3163-4fa7-8310-9449ee0c2df2",
   "metadata": {},
   "source": [
    "23. Develop a program that extracts unique elements from a list and stores them in a new list using a list\n",
    "comprehension."
   ]
  },
  {
   "cell_type": "code",
   "execution_count": 2,
   "id": "d4200254-ac78-4311-9493-722d472833a6",
   "metadata": {},
   "outputs": [
    {
     "name": "stdout",
     "output_type": "stream",
     "text": [
      "Original List: [1, 2, 2, 3, 4, 4, 5, 6, 6, 7]\n",
      "unique elements: [1, 2, 3, 4, 5, 6, 7]\n"
     ]
    }
   ],
   "source": [
    "original_list = [1, 2, 2, 3, 4, 4, 5, 6, 6, 7]\n",
    "unique_elements = list(set(element for element in original_list))\n",
    "print(\"Original List:\", original_list)\n",
    "print(\"unique elements:\",unique_elements)"
   ]
  },
  {
   "cell_type": "markdown",
   "id": "63b339c2-9863-4c1c-8d28-23e3feee6768",
   "metadata": {},
   "source": [
    "24. Create a program that generates a list of all palindromic numbers up to a specified limit using a list\n",
    "comprehension."
   ]
  },
  {
   "cell_type": "code",
   "execution_count": 16,
   "id": "f2e1cc2c-64dc-443f-92da-4762d6ffc4b9",
   "metadata": {},
   "outputs": [
    {
     "name": "stdout",
     "output_type": "stream",
     "text": [
      "[0, 1, 2, 3, 4, 5, 6, 7, 8, 9, 11, 22, 33, 44, 55, 66, 77, 88, 99]\n"
     ]
    }
   ],
   "source": [
    "limit = 100\n",
    "palindromic_numbers = [num for num in range(limit) if str(num) == str(num)[::-1]]\n",
    "print(palindromic_numbers)"
   ]
  },
  {
   "cell_type": "markdown",
   "id": "f40edb9d-4d0a-4db3-b54a-145d14cd19c8",
   "metadata": {},
   "source": [
    "25. Write a program to flatten a nested list using list comprehension."
   ]
  },
  {
   "cell_type": "code",
   "execution_count": 15,
   "id": "9f7de0d6-5cb2-4ef5-96fb-ea39c9368773",
   "metadata": {},
   "outputs": [
    {
     "name": "stdout",
     "output_type": "stream",
     "text": [
      "nested list: [[1, 2, 3], [4, 5], [6, 7, 8, 9]]\n",
      "flattened list [1, 2, 3, 4, 5, 6, 7, 8, 9]\n"
     ]
    }
   ],
   "source": [
    "nested_list = [[1, 2, 3], [4, 5], [6, 7, 8, 9]]\n",
    "flattened_list = [element for sublist in nested_list for element in (sublist if isinstance(sublist, list) else [sublist])]\n",
    "print(\"nested list:\",nested_list)\n",
    "print(\"flattened list\",flattened_list)"
   ]
  },
  {
   "cell_type": "markdown",
   "id": "798a7bb3-e3a6-4f1c-9d7a-697ea800ddb4",
   "metadata": {},
   "source": [
    "26. Develop a program that computes the sum of even and odd numbers in a list separately using list\n",
    "comprehension."
   ]
  },
  {
   "cell_type": "code",
   "execution_count": 18,
   "id": "a79d913d-e0a9-4fc7-9bb2-9b6421ba77fc",
   "metadata": {},
   "outputs": [
    {
     "name": "stdout",
     "output_type": "stream",
     "text": [
      "Sum of Even Numbers: 20\n",
      "Sum of Odd Numbers: 25\n"
     ]
    }
   ],
   "source": [
    "numbers = [1, 2, 3, 4, 5, 6, 7, 8, 9]\n",
    "even_sum = sum([num for num in numbers if num % 2 == 0])\n",
    "odd_sum = sum([num for num in numbers if num % 2 != 0])\n",
    "print(\"Sum of Even Numbers:\",even_sum)\n",
    "print(\"Sum of Odd Numbers:\",odd_sum)"
   ]
  },
  {
   "cell_type": "markdown",
   "id": "ecf922f8-c885-459c-86c9-647d6c127c3c",
   "metadata": {},
   "source": [
    "27. Create a program that generates a list of squares of odd numbers between 1 and 10 using list\n",
    "comprehension."
   ]
  },
  {
   "cell_type": "code",
   "execution_count": 21,
   "id": "8e6cabf3-4f46-4d0c-9835-62823872720c",
   "metadata": {},
   "outputs": [
    {
     "name": "stdout",
     "output_type": "stream",
     "text": [
      "[1, 9, 25, 49, 81]\n"
     ]
    }
   ],
   "source": [
    "squares_of_odd_numbers = [i**2 for i in range(1, 11) if i % 2 != 0]\n",
    "print(squares_of_odd_numbers)"
   ]
  },
  {
   "cell_type": "markdown",
   "id": "ec8cfc19-8634-403c-acc1-8b713b2bf1b8",
   "metadata": {},
   "source": [
    "28. Write a program that combines two lists into a dictionary using list comprehension."
   ]
  },
  {
   "cell_type": "code",
   "execution_count": 22,
   "id": "5ee149b2-1651-4eac-aeb0-09164e2760c0",
   "metadata": {},
   "outputs": [
    {
     "name": "stdout",
     "output_type": "stream",
     "text": [
      "{'name': 'John', 'age': 25, 'city': 'New York'}\n"
     ]
    }
   ],
   "source": [
    "keys = ['name', 'age', 'city']\n",
    "values = ['John', 25, 'New York']\n",
    "combined_dict = {keys[i]: values[i] for i in range(min(len(keys), len(values)))}\n",
    "print(combined_dict)"
   ]
  },
  {
   "cell_type": "markdown",
   "id": "212ff811-c103-47ce-bbb4-d993bce67088",
   "metadata": {},
   "source": [
    "29. Develop a program that extracts the vowels from a string and stores them in a list using list comprehension."
   ]
  },
  {
   "cell_type": "code",
   "execution_count": 27,
   "id": "7a234852-afe8-4a19-baad-40667dd22318",
   "metadata": {},
   "outputs": [
    {
     "name": "stdout",
     "output_type": "stream",
     "text": [
      "['a', 'a', 'i', 'e', 'e']\n"
     ]
    }
   ],
   "source": [
    "string=\"data science\"\n",
    "vowels = [char for char in string if char.lower() in 'aeiou']\n",
    "print(vowels)"
   ]
  },
  {
   "cell_type": "markdown",
   "id": "056e051b-2dc2-4604-84e6-913db3836cde",
   "metadata": {},
   "source": [
    "30. Create a program that removes all non-numeric characters from a list of strings using list comprehension."
   ]
  },
  {
   "cell_type": "code",
   "execution_count": 28,
   "id": "6e18eb0f-3a0b-4907-ab91-4ecec86f72c8",
   "metadata": {},
   "outputs": [
    {
     "name": "stdout",
     "output_type": "stream",
     "text": [
      "['123', '456', '789', '']\n"
     ]
    }
   ],
   "source": [
    "string_list = ['abc123', '456def', '789ghi', 'jkl']\n",
    "numeric_strings = [''.join(char for char in s if char.isdigit()) for s in string_list]\n",
    "print(numeric_strings)"
   ]
  },
  {
   "cell_type": "markdown",
   "id": "ca39414b-40bf-4723-9a82-ab3a50b2b501",
   "metadata": {},
   "source": [
    "Challenge Level:\n",
    "    \n",
    "31. Write a program to generate a list of prime numbers using the Sieve of Eratosthenes algorithm and list\n",
    "comprehension."
   ]
  },
  {
   "cell_type": "code",
   "execution_count": 6,
   "id": "856a49af-9a38-400b-afec-bee6b301776c",
   "metadata": {},
   "outputs": [
    {
     "name": "stdin",
     "output_type": "stream",
     "text": [
      "Enter a limit to generate prime numbers up to:  10\n"
     ]
    },
    {
     "name": "stdout",
     "output_type": "stream",
     "text": [
      "list of prime numbers using sieve of eratosthenes algorithm [2, 3, 5, 7]\n"
     ]
    }
   ],
   "source": [
    "limit = int(input(\"Enter a limit to generate prime numbers up to: \"))\n",
    "primes = [i for i in range(2, limit + 1) if all(i % j != 0 for j in range(2, int(i**0.5) + 1))]\n",
    "print(\"list of prime numbers using sieve of eratosthenes algorithm\",primes)"
   ]
  },
  {
   "cell_type": "markdown",
   "id": "f455e05a-c9d9-4bd9-af84-8bca295bcab8",
   "metadata": {},
   "source": [
    "32. Create a program that generates a list of all Pythagorean triplets up to a specified limit using list\n",
    "comprehension."
   ]
  },
  {
   "cell_type": "code",
   "execution_count": 9,
   "id": "40e58e06-041c-4600-8e5c-f1e591604cb8",
   "metadata": {},
   "outputs": [
    {
     "name": "stdin",
     "output_type": "stream",
     "text": [
      "Enter a limit to generate Pythagorean triplets up to:  20\n"
     ]
    },
    {
     "name": "stdout",
     "output_type": "stream",
     "text": [
      "Pythagorean triplets are: [(3, 4, 5), (5, 12, 13), (6, 8, 10), (8, 15, 17), (9, 12, 15), (12, 16, 20)]\n"
     ]
    }
   ],
   "source": [
    "limit = int(input(\"Enter a limit to generate Pythagorean triplets up to: \"))\n",
    "triplets = [(a, b, c) for a in range(1, limit + 1) for b in range(a, limit + 1) \n",
    "             for c in range(b, limit + 1) if a**2 + b**2 == c**2]\n",
    "print(\"Pythagorean triplets are:\",triplets)"
   ]
  },
  {
   "cell_type": "markdown",
   "id": "8baffae3-b6c8-4c45-babe-6a169c065a76",
   "metadata": {},
   "source": [
    "33. Develop a program that generates a list of all possible combinations of two lists using list comprehension."
   ]
  },
  {
   "cell_type": "code",
   "execution_count": 11,
   "id": "6abda741-97bb-4a5c-97ee-2daa8fad49dd",
   "metadata": {},
   "outputs": [
    {
     "name": "stdin",
     "output_type": "stream",
     "text": [
      "Enter elements for the first list (comma-separated):  1,2\n",
      "Enter elements for the second list (comma-separated):  2,4\n"
     ]
    },
    {
     "name": "stdout",
     "output_type": "stream",
     "text": [
      "[('1', '2'), ('1', '4'), ('2', '2'), ('2', '4')]\n"
     ]
    }
   ],
   "source": [
    "list1 = input(\"Enter elements for the first list (comma-separated): \").split(',')\n",
    "list2 = input(\"Enter elements for the second list (comma-separated): \").split(',')\n",
    "list1 = [elem.strip() for elem in list1]\n",
    "list2 = [elem.strip() for elem in list2]\n",
    "combinations = [(item1, item2) for item1 in list1 for item2 in list2]\n",
    "print(combinations)"
   ]
  },
  {
   "cell_type": "markdown",
   "id": "96e022a3-6fc9-480d-b299-e10c38dc37e1",
   "metadata": {},
   "source": [
    "34. Write a program that calculates the mean, median, and mode of a list of numbers using list\n",
    "comprehension."
   ]
  },
  {
   "cell_type": "code",
   "execution_count": 16,
   "id": "5047f655-e9dd-4fa7-b0ea-d7be7e4368fb",
   "metadata": {},
   "outputs": [
    {
     "name": "stdin",
     "output_type": "stream",
     "text": [
      "Enter a list of numbers separated by spaces:  1 3\n"
     ]
    },
    {
     "name": "stdout",
     "output_type": "stream",
     "text": [
      "2.0\n",
      "2.0\n",
      "[1.0, 3.0]\n"
     ]
    }
   ],
   "source": [
    "numbers = [float(x) for x in input(\"Enter a list of numbers separated by spaces: \").split()]\n",
    "mean = sum(numbers) / len(numbers)\n",
    "sorted_numbers = sorted(numbers)\n",
    "mid = len(sorted_numbers) // 2\n",
    "median = (sorted_numbers[mid] + sorted_numbers[mid - 1]) / 2 if len(sorted_numbers) % 2 == 0 else sorted_numbers[mid]\n",
    "counter = {num: numbers.count(num) for num in set(numbers)}\n",
    "max_count = max(counter.values())\n",
    "mode = [num for num, count in counter.items() if count == max_count]\n",
    "print(mean)\n",
    "print(median)\n",
    "print(mode)"
   ]
  },
  {
   "cell_type": "markdown",
   "id": "1f3f3156-5d3e-483a-b554-001b93797bf3",
   "metadata": {},
   "source": [
    "35. Create a program that generates Pascal's triangle up to a specified number of rows using list\n",
    "comprehension."
   ]
  },
  {
   "cell_type": "code",
   "execution_count": 21,
   "id": "f0ccaaed-990b-488e-b7be-c8daa148077c",
   "metadata": {},
   "outputs": [
    {
     "name": "stdin",
     "output_type": "stream",
     "text": [
      "Enter the number of rows for Pascal's Triangle:  4\n"
     ]
    },
    {
     "name": "stdout",
     "output_type": "stream",
     "text": [
      "      1 1      \n",
      "     1 2 1     \n",
      "    1 2 2 1    \n",
      "   1 2 2 2 1   \n"
     ]
    }
   ],
   "source": [
    "rows = int(input(\"Enter the number of rows for Pascal's Triangle: \"))\n",
    "triangle = [[1] + [sum(pair) for pair in zip(row, row[1:])] + [1] for row in\n",
    "            [[1] * (i + 1) for i in range(rows)]]\n",
    "for row in triangle:\n",
    "    print(\" \".join(map(str, row)).center(len(triangle[-1]) * 3))"
   ]
  },
  {
   "cell_type": "markdown",
   "id": "4ed47cdf-d841-4b2a-9d4a-54a0b8d381f1",
   "metadata": {},
   "source": [
    "36. Develop a program that calculates the sum of the digits of a factorial of numbers from 1 to 5 using list\n",
    "comprehension."
   ]
  },
  {
   "cell_type": "code",
   "execution_count": 1,
   "id": "cbac737a-8b41-4221-a440-46d77ee8de8b",
   "metadata": {},
   "outputs": [
    {
     "name": "stdout",
     "output_type": "stream",
     "text": [
      "1\n",
      "2\n",
      "6\n",
      "6\n",
      "3\n"
     ]
    }
   ],
   "source": [
    "import math\n",
    "factorial_sums = [sum(int(digit) for digit in str(math.factorial(n))) for n in range(1, 6)]\n",
    "for n, factorial_sum in enumerate(factorial_sums, start=1):\n",
    "    print(factorial_sum)"
   ]
  },
  {
   "cell_type": "markdown",
   "id": "9df9b507-3617-4226-879d-40171d76dde9",
   "metadata": {},
   "source": [
    "37. Write a program that finds the longest word in a sentence using list comprehension."
   ]
  },
  {
   "cell_type": "code",
   "execution_count": 2,
   "id": "1fbc615d-8c17-4ce1-92a6-a8aec7ecf52a",
   "metadata": {},
   "outputs": [
    {
     "name": "stdin",
     "output_type": "stream",
     "text": [
      "Enter a sentence:  welcome to python classs\n"
     ]
    },
    {
     "name": "stdout",
     "output_type": "stream",
     "text": [
      "welcome\n"
     ]
    }
   ],
   "source": [
    "sentence = input(\"Enter a sentence: \")\n",
    "words = [word.strip(\".,!?\") for word in sentence.split()]\n",
    "longest_word = max(words, key=len, default=\"\")\n",
    "print(longest_word)"
   ]
  },
  {
   "cell_type": "markdown",
   "id": "f1af71a7-afb6-4e18-840e-d3110a650e06",
   "metadata": {},
   "source": [
    "38. Create a program that filters a list of strings to include only those with more than three vowels using list\n",
    "comprehension."
   ]
  },
  {
   "cell_type": "code",
   "execution_count": 3,
   "id": "9814e760-1e92-47ea-a70e-e79291e2c2bb",
   "metadata": {},
   "outputs": [
    {
     "name": "stdin",
     "output_type": "stream",
     "text": [
      "Enter a list of strings separated by space:  python is object oriented\n"
     ]
    },
    {
     "name": "stdout",
     "output_type": "stream",
     "text": [
      "['oriented']\n"
     ]
    }
   ],
   "source": [
    "string_list = input(\"Enter a list of strings separated by space: \").split()\n",
    "filtered_strings = [s for s in string_list if sum(1 for char in s if char.lower() in 'aeiou') > 3]\n",
    "print(filtered_strings)"
   ]
  },
  {
   "cell_type": "markdown",
   "id": "c72a4091-e45a-46ab-af01-eae1dcc7a9d8",
   "metadata": {},
   "source": [
    "39. Develop a program that calculates the sum of the digits of numbers from 1 to 1000 using list\n",
    "comprehension."
   ]
  },
  {
   "cell_type": "code",
   "execution_count": 13,
   "id": "14dc461e-5967-4ed8-b984-518a8b5dc991",
   "metadata": {},
   "outputs": [
    {
     "name": "stdout",
     "output_type": "stream",
     "text": [
      "13501\n"
     ]
    }
   ],
   "source": [
    "digit_sums = [sum(int(digit) for digit in str(number)) for number in range(1, 1001)]\n",
    "total_sum = sum(sums_of_digits)\n",
    "print(total_sum)"
   ]
  },
  {
   "cell_type": "markdown",
   "id": "29c46458-3955-46f9-99e0-650bc51dd657",
   "metadata": {},
   "source": [
    "40. Write a program that generates a list of prime palindromic numbers using list comprehension."
   ]
  },
  {
   "cell_type": "code",
   "execution_count": 16,
   "id": "676fe2d0-fc46-4d07-92de-203436557098",
   "metadata": {},
   "outputs": [
    {
     "name": "stdout",
     "output_type": "stream",
     "text": [
      "[1, 2, 3, 5, 7, 11, 101, 131, 151, 181, 191, 313, 353, 373, 383, 727, 757, 787, 797, 919, 929]\n"
     ]
    }
   ],
   "source": [
    "prime_palindromes = [num for num in range(1, 1000) if all(num % i != 0 for i in range(2, int(num**0.5) + 1)) and str(num) == str(num)[::-1]]\n",
    "print(prime_palindromes)"
   ]
  }
 ],
 "metadata": {
  "kernelspec": {
   "display_name": "Python 3 (ipykernel)",
   "language": "python",
   "name": "python3"
  },
  "language_info": {
   "codemirror_mode": {
    "name": "ipython",
    "version": 3
   },
   "file_extension": ".py",
   "mimetype": "text/x-python",
   "name": "python",
   "nbconvert_exporter": "python",
   "pygments_lexer": "ipython3",
   "version": "3.10.8"
  }
 },
 "nbformat": 4,
 "nbformat_minor": 5
}
